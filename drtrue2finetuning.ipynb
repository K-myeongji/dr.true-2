{
  "nbformat": 4,
  "nbformat_minor": 0,
  "metadata": {
    "colab": {
      "provenance": []
    },
    "kernelspec": {
      "name": "python3",
      "display_name": "Python 3"
    },
    "language_info": {
      "name": "python"
    }
  },
  "cells": [
    {
      "cell_type": "code",
      "execution_count": null,
      "metadata": {
        "id": "puDzT8XjFN7p"
      },
      "outputs": [],
      "source": [
        "!pip install --upgrade openai"
      ]
    },
    {
      "cell_type": "code",
      "source": [
        "import os\n",
        "os.environ['OPENAI_API_KEY'] = ##"
      ],
      "metadata": {
        "id": "zZsXmtDoFrkX"
      },
      "execution_count": null,
      "outputs": []
    },
    {
      "cell_type": "code",
      "source": [
        "from google.colab import drive\n",
        "drive.mount('/content/drive')"
      ],
      "metadata": {
        "id": "aybksVZX5o0f"
      },
      "execution_count": null,
      "outputs": []
    },
    {
      "cell_type": "code",
      "source": [
        "{\"prompt\":\"Overjoyed with the new iPhone! ->\", \"completion\":\" positive\"}\n",
        "{\"prompt\":\"@lakers disappoint for a third straight night https://t.co/38EFe43 ->\", \"completion\":\" negative\"}"
      ],
      "metadata": {
        "id": "7jx8XMEb9_VD"
      },
      "execution_count": null,
      "outputs": []
    },
    {
      "cell_type": "code",
      "source": [
        "!openai tools fine_tunes.prepare_data -f /content/drive/MyDrive/data.json"
      ],
      "metadata": {
        "id": "6uMaTRVYKMqU"
      },
      "execution_count": null,
      "outputs": []
    },
    {
      "cell_type": "code",
      "source": [
        "!openai api fine_tunes.create -t /content/drive/MyDrive/data_prepared.jsonl -m davinci"
      ],
      "metadata": {
        "id": "fYZTNqaPNG87"
      },
      "execution_count": null,
      "outputs": []
    },
    {
      "cell_type": "code",
      "source": [
        "!openai api fine_tunes.follow -i ##"
      ],
      "metadata": {
        "id": "B1P4qwuiMmrs"
      },
      "execution_count": null,
      "outputs": []
    }
  ]
}