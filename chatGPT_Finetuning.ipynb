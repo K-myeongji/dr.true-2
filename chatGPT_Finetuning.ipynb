{
  "cells": [
    {
      "cell_type": "code",
      "execution_count": null,
      "metadata": {
        "id": "h8M7gqWDB48n"
      },
      "outputs": [],
      "source": [
        "#pip install --upgrade openai\n",
        "!pip install openai\n"
      ]
    },
    {
      "cell_type": "code",
      "execution_count": null,
      "metadata": {
        "id": "OtWE5fQlCZo6"
      },
      "outputs": [],
      "source": [
        "import os\n",
        "\n",
        "os.environ[\"OPENAI_API_KEY\"] = \"<openapikey>\"\n"
      ]
    },
    {
      "cell_type": "code",
      "execution_count": null,
      "metadata": {
        "id": "t63Q18eJIb1h"
      },
      "outputs": [],
      "source": [
        "import openai\n",
        "\n",
        "openai.api_key = '<openapikey>'\n"
      ]
    },
    {
      "cell_type": "code",
      "execution_count": null,
      "metadata": {
        "id": "zUzl-Mm0CpEQ"
      },
      "outputs": [],
      "source": [
        "import json\n",
        "\n",
        "data = [\n",
        "    {\n",
        "        \"prompt\": \"<prompt text>\",\n",
        "        \"completion\": \"<ideal generated text>\"\n",
        "    },\n",
        "    {\n",
        "        \"prompt\": \"<prompt text>\",\n",
        "        \"completion\": \"<ideal generated text>\"\n",
        "    },\n",
        "    {\n",
        "        \"prompt\": \"<prompt text>\",\n",
        "        \"completion\": \"<ideal generated text>\"\n",
        "    }\n",
        "]\n",
        "\n",
        "with open(\"data.json\", \"w\") as file:\n",
        "    json.dump(data, file)\n"
      ]
    },
    {
      "cell_type": "code",
      "execution_count": null,
      "metadata": {
        "id": "kuL9HtuqCh4a"
      },
      "outputs": [],
      "source": [
        "import json\n",
        "\n",
        "data_path = '<file_path>'\n",
        "\n",
        "with open(data_path, 'r') as file:\n",
        "    data = json.load(file)"
      ]
    },
    {
      "cell_type": "code",
      "execution_count": null,
      "metadata": {
        "id": "lykvI-RHDRYS"
      },
      "outputs": [],
      "source": [
        "{\"prompt\":\"Company: BHFF insurance\\nProduct: allround insurance\\nAd:One stop shop for all your insurance needs!\\nSupported:\", \"completion\":\" yes\"}\n",
        "{\"prompt\":\"Company: Loft conversion specialists\\nProduct: -\\nAd:Straight teeth in weeks!\\nSupported:\", \"completion\":\" no\"}"
      ]
    },
    {
      "cell_type": "code",
      "execution_count": null,
      "metadata": {
        "id": "kyPre-sYDpQE"
      },
      "outputs": [],
      "source": [
        "#openai tools fine_tunes.prepare_data -f data.json\n",
        "!openai tools fine_tunes.prepare_data -f data.json\n"
      ]
    },
    {
      "cell_type": "code",
      "execution_count": null,
      "metadata": {
        "id": "o2bX8BzjHijr"
      },
      "outputs": [],
      "source": [
        "!openai api fine_tunes.create -t test_prepared.jsonl -m davinci --api-key \"<openapikey>\""
      ]
    },
    {
      "cell_type": "code",
      "execution_count": null,
      "metadata": {
        "id": "B5hC1NZ2I3YN"
      },
      "outputs": [],
      "source": [
        "!openai api fine_tunes.follow -i ft-PLYtbBLfcGg1DTFcGv9IT9Nx --api-key \"<openapikey>\""
      ]
    },
    {
      "cell_type": "code",
      "execution_count": null,
      "metadata": {
        "id": "6p0fjILoJa7j"
      },
      "outputs": [],
      "source": [
        "import openai\n",
        "\n",
        "openai.api_key = \"<openapikey>\"\n",
        "\n",
        "engines = openai.Engine.list()\n",
        "for engine in engines['data']:\n",
        "    print(engine['id'])\n"
      ]
    },
    {
      "cell_type": "code",
      "execution_count": null,
      "metadata": {
        "id": "rOE06PMDJx7q"
      },
      "outputs": [],
      "source": []
    }
  ],
  "metadata": {
    "colab": {
      "provenance": []
    },
    "kernelspec": {
      "display_name": "Python 3",
      "name": "python3"
    },
    "language_info": {
      "name": "python"
    }
  },
  "nbformat": 4,
  "nbformat_minor": 0
}
